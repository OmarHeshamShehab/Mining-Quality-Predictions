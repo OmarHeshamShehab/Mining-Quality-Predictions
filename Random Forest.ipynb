{
 "cells": [
  {
   "cell_type": "markdown",
   "metadata": {},
   "source": [
    "# Importing Libraries"
   ]
  },
  {
   "cell_type": "code",
   "execution_count": 1,
   "metadata": {},
   "outputs": [],
   "source": [
    "import pandas as pd\n",
    "import numpy as np\n",
    "import seaborn as sns\n",
    "import matplotlib.pyplot as plt\n",
    "\n",
    "# below lines in order to be able to visualize the x and y axis instead having everything in black to be in white format\n",
    "from jupyterthemes import jtplot\n",
    "\n",
    "jtplot.style(theme=\"monokai\", context=\"notebook\", ticks=True, grid=False)"
   ]
  },
  {
   "cell_type": "markdown",
   "metadata": {},
   "source": [
    "# Importing Data Set"
   ]
  },
  {
   "cell_type": "code",
   "execution_count": 2,
   "metadata": {},
   "outputs": [],
   "source": [
    "mining_df = pd.read_csv(\"mining_data.csv\")\n",
    "X = mining_df.drop(columns=\"% Silica Concentrate\")\n",
    "y = mining_df[\"% Silica Concentrate\"]"
   ]
  },
  {
   "cell_type": "code",
   "execution_count": 3,
   "metadata": {},
   "outputs": [
    {
     "data": {
      "text/plain": [
       "(245700, 22)"
      ]
     },
     "execution_count": 3,
     "metadata": {},
     "output_type": "execute_result"
    }
   ],
   "source": [
    "X.shape"
   ]
  },
  {
   "cell_type": "code",
   "execution_count": 4,
   "metadata": {},
   "outputs": [
    {
     "data": {
      "text/plain": [
       "(245700,)"
      ]
     },
     "execution_count": 4,
     "metadata": {},
     "output_type": "execute_result"
    }
   ],
   "source": [
    "y.shape"
   ]
  },
  {
   "cell_type": "code",
   "execution_count": 5,
   "metadata": {},
   "outputs": [],
   "source": [
    "# converting data frame into numpy array\n",
    "X = np.array(X)\n",
    "y = np.array(y)"
   ]
  },
  {
   "cell_type": "code",
   "execution_count": 6,
   "metadata": {},
   "outputs": [
    {
     "data": {
      "text/plain": [
       "(245700, 1)"
      ]
     },
     "execution_count": 6,
     "metadata": {},
     "output_type": "execute_result"
    }
   ],
   "source": [
    "# reshapping y into 2 Dimenssional Array\n",
    "y = y.reshape(-1, 1)\n",
    "y.shape"
   ]
  },
  {
   "cell_type": "markdown",
   "metadata": {},
   "source": [
    "# SPLITTING THE DATASET INTO THE TRAINING SET AND TEST SET"
   ]
  },
  {
   "cell_type": "code",
   "execution_count": 7,
   "metadata": {},
   "outputs": [],
   "source": [
    "from sklearn.model_selection import train_test_split\n",
    "\n",
    "X_train, X_test, y_train, y_test = train_test_split(X, y, test_size=0.2)"
   ]
  },
  {
   "cell_type": "code",
   "execution_count": 8,
   "metadata": {},
   "outputs": [
    {
     "name": "stdout",
     "output_type": "stream",
     "text": [
      "X_train : (196560, 22) \n",
      "X_test  : (49140, 22)  \n",
      "y_train : (196560, 1) \n",
      "y_test  : (49140, 1)  \n"
     ]
    }
   ],
   "source": [
    "print(f\"X_train : {X_train.shape} \")\n",
    "print(f\"X_test  : {X_test.shape}  \")\n",
    "print(f\"y_train : {y_train.shape} \")\n",
    "print(f\"y_test  : {y_test.shape}  \")"
   ]
  },
  {
   "cell_type": "markdown",
   "metadata": {},
   "source": [
    "# FEATURE SCALING"
   ]
  },
  {
   "cell_type": "code",
   "execution_count": 9,
   "metadata": {},
   "outputs": [
    {
     "data": {
      "text/plain": [
       "array([[-0.26830757,  0.04965069,  0.37448908, ...,  1.22579252,\n",
       "         1.00941353,  0.62584319],\n",
       "       [ 1.49871073, -1.23225136,  0.2126441 , ...,  1.38984732,\n",
       "         1.10022018, -0.66231383],\n",
       "       [-0.71393719,  0.82055398,  0.81470844, ..., -0.85782808,\n",
       "        -0.53795809, -0.56391295],\n",
       "       ...,\n",
       "       [ 0.6171391 , -0.81522939,  0.32177039, ..., -0.98813275,\n",
       "        -2.1103941 ,  0.92999138],\n",
       "       [ 0.09207116, -0.04138932, -1.22635964, ..., -0.92846544,\n",
       "        -1.09539787,  1.01050119],\n",
       "       [-0.68099935,  0.37710104,  0.69638503, ...,  0.25243378,\n",
       "         0.46295733,  0.66162533]])"
      ]
     },
     "execution_count": 9,
     "metadata": {},
     "output_type": "execute_result"
    }
   ],
   "source": [
    "from sklearn.preprocessing import StandardScaler, MinMaxScaler\n",
    "\n",
    "SC = StandardScaler()\n",
    "SC.fit_transform(X_train, y_train)"
   ]
  },
  {
   "cell_type": "markdown",
   "metadata": {},
   "source": [
    "# EVALUATE RANDOM FOREST"
   ]
  },
  {
   "cell_type": "code",
   "execution_count": 10,
   "metadata": {},
   "outputs": [
    {
     "data": {
      "text/plain": [
       "0.8934149656655873"
      ]
     },
     "execution_count": 10,
     "metadata": {},
     "output_type": "execute_result"
    }
   ],
   "source": [
    "from sklearn.ensemble import RandomForestRegressor\n",
    "\n",
    "RandomForest_model = RandomForestRegressor(n_estimators=100, max_depth=10)\n",
    "RandomForest_model.fit(X_train, y_train.ravel())  # we rashaped the y earlier\n",
    "\n",
    "accuracy_RandomForest = RandomForest_model.score(X_test, y_test)\n",
    "accuracy_RandomForest"
   ]
  }
 ],
 "metadata": {
  "kernelspec": {
   "display_name": "Python 3",
   "language": "python",
   "name": "python3"
  },
  "language_info": {
   "codemirror_mode": {
    "name": "ipython",
    "version": 3
   },
   "file_extension": ".py",
   "mimetype": "text/x-python",
   "name": "python",
   "nbconvert_exporter": "python",
   "pygments_lexer": "ipython3",
   "version": "3.10.13"
  }
 },
 "nbformat": 4,
 "nbformat_minor": 2
}
