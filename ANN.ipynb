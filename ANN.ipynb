{
 "cells": [
  {
   "cell_type": "markdown",
   "metadata": {},
   "source": [
    "# Importing Libraries"
   ]
  },
  {
   "cell_type": "code",
   "execution_count": 1,
   "metadata": {},
   "outputs": [],
   "source": [
    "import numpy as np\n",
    "import pandas as pd\n",
    "import matplotlib.pyplot as plt"
   ]
  },
  {
   "cell_type": "markdown",
   "metadata": {},
   "source": [
    "# Importing Dataset"
   ]
  },
  {
   "cell_type": "code",
   "execution_count": 2,
   "metadata": {},
   "outputs": [],
   "source": [
    "mining_df = pd.read_csv(\"mining_data.csv\")\n",
    "X = mining_df.drop(columns=\"% Silica Concentrate\")\n",
    "y = mining_df[\"% Silica Concentrate\"]\n",
    "# converting from pandas data frame to array\n",
    "X = np.array(X)\n",
    "y = np.array(y)"
   ]
  },
  {
   "cell_type": "markdown",
   "metadata": {},
   "source": [
    "# Splitting Dataset into Training & Test Set"
   ]
  },
  {
   "cell_type": "code",
   "execution_count": 3,
   "metadata": {},
   "outputs": [],
   "source": [
    "from sklearn.model_selection import train_test_split\n",
    "\n",
    "X_train, X_test, y_train, y_test = train_test_split(X, y, test_size=0.2)"
   ]
  },
  {
   "cell_type": "markdown",
   "metadata": {},
   "source": [
    "# Feature Scaling"
   ]
  },
  {
   "cell_type": "code",
   "execution_count": 4,
   "metadata": {},
   "outputs": [],
   "source": [
    "from sklearn.preprocessing import StandardScaler\n",
    "\n",
    "# Standardize both X_train and X_test\n",
    "\n",
    "SC_X = StandardScaler()\n",
    "X_train_scaled = SC_X.fit_transform(X_train)\n",
    "X_test_scaled = SC_X.transform(X_test)\n",
    "\n",
    "\n",
    "# Standardize y_train and y_test converting back again to 1 dimenssion array\n",
    "\n",
    "SC_y = StandardScaler()\n",
    "y_train_scaled = SC_y.fit_transform(y_train.reshape(-1, 1)).ravel()\n",
    "y_test_scaled = SC_y.transform(y_test.reshape(-1, 1)).ravel()"
   ]
  },
  {
   "cell_type": "markdown",
   "metadata": {},
   "source": [
    "# Importing Tensorflow Libraries"
   ]
  },
  {
   "cell_type": "code",
   "execution_count": 5,
   "metadata": {},
   "outputs": [],
   "source": [
    "import tensorflow as tf\n",
    "from tensorflow import keras\n",
    "from keras.layers import Dense, Activation, Dropout\n",
    "from keras.optimizers import Adam\n",
    "from keras.callbacks import EarlyStopping"
   ]
  },
  {
   "cell_type": "markdown",
   "metadata": {},
   "source": [
    "# Optimizer"
   ]
  },
  {
   "cell_type": "code",
   "execution_count": 6,
   "metadata": {},
   "outputs": [],
   "source": [
    "optimizer = Adam(\n",
    "\n",
    "    learning_rate=0.001, beta_1=0.9, beta_2=0.999, epsilon=1e-07, amsgrad=False\n",
    ")"
   ]
  },
  {
   "cell_type": "markdown",
   "metadata": {},
   "source": [
    "# Build the model"
   ]
  },
  {
   "cell_type": "code",
   "execution_count": 7,
   "metadata": {},
   "outputs": [],
   "source": [
    "ANN_model = keras.Sequential(\n",
    "    [\n",
    "        Dense(units=250, input_dim=22, kernel_initializer=\"normal\", activation=\"relu\"),\n",
    "        Dense(units=500, activation=\"relu\"),\n",
    "        Dropout(0.1),\n",
    "        Dense(units=1000, activation=\"relu\"),\n",
    "        Dropout(0.1),\n",
    "        Dense(units=1000, activation=\"relu\"),\n",
    "        Dropout(0.1),\n",
    "        Dense(units=500, activation=\"relu\"),\n",
    "        Dropout(0.1),\n",
    "        Dense(units=250, activation=\"relu\"),\n",
    "        Dropout(0.1),\n",
    "        Dense(units=250, activation=\"relu\"),\n",
    "        Dropout(0.1),\n",
    "        Dense(units=1),\n",
    "    ]\n",
    ")\n",
    "\n",
    "# units is the number of neurons that will be used\n",
    "# input_dim is optional and it specifies the number of inputs will be having\n",
    "# kernel_initializer=\"normal\": This parameter specifies the initialization method for the weights of the neurons in the layer.\n",
    "# In this case, the weights are initialized from a normal distribution (Gaussian distribution).\n",
    "# The dropout rate is set to 0.1, meaning that during training, 10% of the randomly selected neurons in the previous layer will be \"dropped out\"\n",
    "# or omitted on each update. This helps prevent overfitting by introducing some level of regularization,\n",
    "# forcing the model to learn more robust and generalized features."
   ]
  },
  {
   "cell_type": "markdown",
   "metadata": {},
   "source": [
    "# Compile the model"
   ]
  },
  {
   "cell_type": "code",
   "execution_count": 8,
   "metadata": {},
   "outputs": [
    {
     "name": "stdout",
     "output_type": "stream",
     "text": [
      "Model: \"sequential\"\n",
      "_________________________________________________________________\n",
      " Layer (type)                Output Shape              Param #   \n",
      "=================================================================\n",
      " dense (Dense)               (None, 250)               5750      \n",
      "                                                                 \n",
      " dense_1 (Dense)             (None, 500)               125500    \n",
      "                                                                 \n",
      " dropout (Dropout)           (None, 500)               0         \n",
      "                                                                 \n",
      " dense_2 (Dense)             (None, 1000)              501000    \n",
      "                                                                 \n",
      " dropout_1 (Dropout)         (None, 1000)              0         \n",
      "                                                                 \n",
      " dense_3 (Dense)             (None, 1000)              1001000   \n",
      "                                                                 \n",
      " dropout_2 (Dropout)         (None, 1000)              0         \n",
      "                                                                 \n",
      " dense_4 (Dense)             (None, 500)               500500    \n",
      "                                                                 \n",
      " dropout_3 (Dropout)         (None, 500)               0         \n",
      "                                                                 \n",
      " dense_5 (Dense)             (None, 250)               125250    \n",
      "                                                                 \n",
      " dropout_4 (Dropout)         (None, 250)               0         \n",
      "                                                                 \n",
      " dense_6 (Dense)             (None, 250)               62750     \n",
      "                                                                 \n",
      " dropout_5 (Dropout)         (None, 250)               0         \n",
      "                                                                 \n",
      " dense_7 (Dense)             (None, 1)                 251       \n",
      "                                                                 \n",
      "=================================================================\n",
      "Total params: 2,322,001\n",
      "Trainable params: 2,322,001\n",
      "Non-trainable params: 0\n",
      "_________________________________________________________________\n"
     ]
    }
   ],
   "source": [
    "ANN_model.compile(loss=\"mse\", optimizer=optimizer)\n",
    "ANN_model.summary()"
   ]
  },
  {
   "cell_type": "markdown",
   "metadata": {},
   "source": [
    "# Add early stopping"
   ]
  },
  {
   "cell_type": "code",
   "execution_count": 9,
   "metadata": {},
   "outputs": [],
   "source": [
    "early_stopping = EarlyStopping(\n",
    "    monitor=\"val_loss\", patience=10, restore_best_weights=True\n",
    ")\n",
    "\n",
    "# EarlyStopping callback in the code will monitor the validation loss during training, and if it doesn't improve for 10 consecutive epochs, \n",
    "# training will be stopped, and the model will be restored to its best weights. \n",
    "# This helps prevent the model from overfitting and saves computation time when further training is unlikely to improve performance on the validation set."
   ]
  },
  {
   "cell_type": "markdown",
   "metadata": {},
   "source": [
    "# Train the model"
   ]
  },
  {
   "cell_type": "code",
   "execution_count": 10,
   "metadata": {},
   "outputs": [
    {
     "name": "stdout",
     "output_type": "stream",
     "text": [
      "Epoch 1/50\n",
      "4914/4914 [==============================] - 55s 11ms/step - loss: 0.2115 - val_loss: 0.1570\n",
      "Epoch 2/50\n",
      "4914/4914 [==============================] - 47s 10ms/step - loss: 0.1488 - val_loss: 0.1372\n",
      "Epoch 3/50\n",
      "4914/4914 [==============================] - 43s 9ms/step - loss: 0.1247 - val_loss: 0.1081\n",
      "Epoch 4/50\n",
      "4914/4914 [==============================] - 35s 7ms/step - loss: 0.1103 - val_loss: 0.0970\n",
      "Epoch 5/50\n",
      "4914/4914 [==============================] - 43s 9ms/step - loss: 0.1026 - val_loss: 0.0900\n",
      "Epoch 6/50\n",
      "4914/4914 [==============================] - 38s 8ms/step - loss: 0.0941 - val_loss: 0.0804\n",
      "Epoch 7/50\n",
      "4914/4914 [==============================] - 34s 7ms/step - loss: 0.0914 - val_loss: 0.0811\n",
      "Epoch 8/50\n",
      "4914/4914 [==============================] - 61s 12ms/step - loss: 0.0891 - val_loss: 0.0787\n",
      "Epoch 9/50\n",
      "4914/4914 [==============================] - 56s 11ms/step - loss: 0.0867 - val_loss: 0.0694\n",
      "Epoch 10/50\n",
      "4914/4914 [==============================] - 37s 8ms/step - loss: 0.0915 - val_loss: 0.0789\n",
      "Epoch 11/50\n",
      "4914/4914 [==============================] - 34s 7ms/step - loss: 0.0889 - val_loss: 0.0731\n",
      "Epoch 12/50\n",
      "4914/4914 [==============================] - 36s 7ms/step - loss: 0.0864 - val_loss: 0.0761\n",
      "Epoch 13/50\n",
      "4914/4914 [==============================] - 45s 9ms/step - loss: 0.0828 - val_loss: 0.0767\n",
      "Epoch 14/50\n",
      "4914/4914 [==============================] - 61s 12ms/step - loss: 0.0886 - val_loss: 0.0832\n",
      "Epoch 15/50\n",
      "4914/4914 [==============================] - 61s 12ms/step - loss: 0.0919 - val_loss: 0.0784\n",
      "Epoch 16/50\n",
      "4914/4914 [==============================] - 56s 11ms/step - loss: 0.1099 - val_loss: 0.0817\n",
      "Epoch 17/50\n",
      "4914/4914 [==============================] - 56s 11ms/step - loss: 0.0958 - val_loss: 0.0793\n",
      "Epoch 18/50\n",
      "4914/4914 [==============================] - 36s 7ms/step - loss: 0.0964 - val_loss: 0.0863\n",
      "Epoch 19/50\n",
      "4914/4914 [==============================] - 37s 7ms/step - loss: 0.1011 - val_loss: 0.0872\n"
     ]
    }
   ],
   "source": [
    "history = ANN_model.fit(\n",
    "    X_train_scaled,\n",
    "    y_train_scaled,\n",
    "    epochs=50,\n",
    "    validation_split=0.2,\n",
    "    batch_size=32,\n",
    "    callbacks=[early_stopping],\n",
    ")\n",
    "\n",
    "# During training, a portion of the training data (20% in this case) is set aside as a validation set.\n",
    "\n",
    "# The model's performance on this validation set is monitored during training, providing an indication of how well the model generalizes to new, unseen data."
   ]
  },
  {
   "cell_type": "markdown",
   "metadata": {},
   "source": [
    "# Evaluate the model on test data"
   ]
  },
  {
   "cell_type": "code",
   "execution_count": 11,
   "metadata": {},
   "outputs": [
    {
     "name": "stdout",
     "output_type": "stream",
     "text": [
      "1536/1536 [==============================] - 12s 8ms/step - loss: 0.0695\n"
     ]
    }
   ],
   "source": [
    "result = ANN_model.evaluate(X_test_scaled, y_test_scaled)"
   ]
  },
  {
   "cell_type": "markdown",
   "metadata": {},
   "source": [
    "# Calculate accuracy"
   ]
  },
  {
   "cell_type": "code",
   "execution_count": 12,
   "metadata": {},
   "outputs": [
    {
     "name": "stdout",
     "output_type": "stream",
     "text": [
      "Accuracy : 0.9304874613881111\n"
     ]
    },
    {
     "data": {
      "text/plain": [
       "dict_keys(['loss', 'val_loss'])"
      ]
     },
     "execution_count": 12,
     "metadata": {},
     "output_type": "execute_result"
    }
   ],
   "source": [
    "accuracy_ANN = 1 - result\n",
    "\n",
    "print(\"Accuracy : {}\".format(accuracy_ANN))\n",
    "\n",
    "history.history.keys()"
   ]
  },
  {
   "cell_type": "markdown",
   "metadata": {},
   "source": [
    "# Visualizing the Loss"
   ]
  },
  {
   "cell_type": "code",
   "execution_count": 13,
   "metadata": {},
   "outputs": [
    {
     "data": {
      "image/png": "[encoded data removed]",
      "text/plain": [
       "<Figure size 640x480 with 1 Axes>"
      ]
     },
     "metadata": {},
     "output_type": "display_data"
    }
   ],
   "source": [
    "plt.plot(history.history[\"loss\"])\n",
    "plt.plot(history.history[\"val_loss\"])\n",
    "plt.title(\"Model Loss\")\n",
    "plt.ylabel(\"Loss\")\n",
    "plt.xlabel(\"Epoch\")\n",
    "plt.legend([\"Train\", \"Validation\"], loc=\"upper right\")\n",
    "plt.show()"
   ]
  }
 ],
 "metadata": {
  "kernelspec": {
   "display_name": "Python 3",
   "language": "python",
   "name": "python3"
  },
  "language_info": {
   "codemirror_mode": {
    "name": "ipython",
    "version": 3
   },
   "file_extension": ".py",
   "mimetype": "text/x-python",
   "name": "python",
   "nbconvert_exporter": "python",
   "pygments_lexer": "ipython3",
   "version": "3.10.13"
  }
 },
 "nbformat": 4,
 "nbformat_minor": 2
}
