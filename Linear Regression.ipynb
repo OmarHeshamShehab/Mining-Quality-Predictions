{
 "cells": [
  {
   "cell_type": "markdown",
   "metadata": {},
   "source": [
    "# Importing Libraries"
   ]
  },
  {
   "cell_type": "code",
   "execution_count": 1,
   "metadata": {},
   "outputs": [],
   "source": [
    "import pandas as pd\n",
    "import numpy as np\n",
    "import seaborn as sns\n",
    "import matplotlib.pyplot as plt\n",
    "\n",
    "# below lines in order to be able to visualize the x and y axis instead having everything in black to be in white format\n",
    "from jupyterthemes import jtplot\n",
    "\n",
    "jtplot.style(theme=\"monokai\", context=\"notebook\", ticks=True, grid=False)"
   ]
  },
  {
   "cell_type": "markdown",
   "metadata": {},
   "source": [
    "# Importing Data Set"
   ]
  },
  {
   "cell_type": "code",
   "execution_count": 2,
   "metadata": {},
   "outputs": [],
   "source": [
    "mining_df = pd.read_csv(\"mining_data.csv\")\n",
    "X = mining_df.drop(columns=\"% Silica Concentrate\")\n",
    "y = mining_df[\"% Silica Concentrate\"]"
   ]
  },
  {
   "cell_type": "code",
   "execution_count": 3,
   "metadata": {},
   "outputs": [
    {
     "data": {
      "text/plain": [
       "(245700, 22)"
      ]
     },
     "execution_count": 3,
     "metadata": {},
     "output_type": "execute_result"
    }
   ],
   "source": [
    "X.shape"
   ]
  },
  {
   "cell_type": "code",
   "execution_count": 4,
   "metadata": {},
   "outputs": [
    {
     "data": {
      "text/plain": [
       "(245700,)"
      ]
     },
     "execution_count": 4,
     "metadata": {},
     "output_type": "execute_result"
    }
   ],
   "source": [
    "y.shape"
   ]
  },
  {
   "cell_type": "code",
   "execution_count": 5,
   "metadata": {},
   "outputs": [],
   "source": [
    "# converting data frame into numpy array\n",
    "X = np.array(X)\n",
    "y = np.array(y)"
   ]
  },
  {
   "cell_type": "code",
   "execution_count": 6,
   "metadata": {},
   "outputs": [
    {
     "data": {
      "text/plain": [
       "(245700, 1)"
      ]
     },
     "execution_count": 6,
     "metadata": {},
     "output_type": "execute_result"
    }
   ],
   "source": [
    "# reshapping y into 2 Dimenssional Array\n",
    "y = y.reshape(-1, 1)\n",
    "y.shape"
   ]
  },
  {
   "cell_type": "markdown",
   "metadata": {},
   "source": [
    "# SPLITTING THE DATASET INTO THE TRAINING SET AND TEST SET"
   ]
  },
  {
   "cell_type": "code",
   "execution_count": 7,
   "metadata": {},
   "outputs": [],
   "source": [
    "from sklearn.model_selection import train_test_split\n",
    "\n",
    "X_train, X_test, y_train, y_test = train_test_split(X, y, test_size=0.2)"
   ]
  },
  {
   "cell_type": "code",
   "execution_count": 8,
   "metadata": {},
   "outputs": [
    {
     "name": "stdout",
     "output_type": "stream",
     "text": [
      "X_train : (196560, 22) \n",
      "X_test  : (49140, 22)  \n",
      "y_train : (196560, 1) \n",
      "y_test  : (49140, 1)  \n"
     ]
    }
   ],
   "source": [
    "print(f\"X_train : {X_train.shape} \")\n",
    "print(f\"X_test  : {X_test.shape}  \")\n",
    "print(f\"y_train : {y_train.shape} \")\n",
    "print(f\"y_test  : {y_test.shape}  \")"
   ]
  },
  {
   "cell_type": "markdown",
   "metadata": {},
   "source": [
    "# FEATURE SCALING"
   ]
  },
  {
   "cell_type": "code",
   "execution_count": 9,
   "metadata": {},
   "outputs": [
    {
     "data": {
      "text/plain": [
       "array([[ 1.5000449 , -1.23232096, -2.22564902, ..., -0.84292953,\n",
       "         0.92890882,  1.2886592 ],\n",
       "       [-0.21510754,  0.31979972, -0.68770967, ...,  0.22453003,\n",
       "        -0.29151316,  0.5289419 ],\n",
       "       [-0.80687394,  0.53586197,  2.25490488, ..., -1.01949267,\n",
       "         0.03191082, -0.07883194],\n",
       "       ...,\n",
       "       [ 0.84619154, -0.93982852,  0.21841144, ...,  1.38060753,\n",
       "         1.40946095, -0.70448148],\n",
       "       [-0.47897715,  0.92683176,  0.80822447, ...,  0.06754677,\n",
       "         1.03177485,  0.36806059],\n",
       "       [-0.51584128,  0.65197706, -0.29135656, ..., -0.92359583,\n",
       "        -0.87879099, -0.40059456]])"
      ]
     },
     "execution_count": 9,
     "metadata": {},
     "output_type": "execute_result"
    }
   ],
   "source": [
    "from sklearn.preprocessing import StandardScaler, MinMaxScaler\n",
    "\n",
    "SC = StandardScaler()\n",
    "SC.fit_transform(X_train, y_train)"
   ]
  },
  {
   "cell_type": "markdown",
   "metadata": {},
   "source": [
    "# EVALUATE LINEAR REGRESSION MODEL"
   ]
  },
  {
   "cell_type": "code",
   "execution_count": 10,
   "metadata": {},
   "outputs": [
    {
     "data": {
      "text/plain": [
       "0.6772177587445032"
      ]
     },
     "execution_count": 10,
     "metadata": {},
     "output_type": "execute_result"
    }
   ],
   "source": [
    "from sklearn.linear_model import LinearRegression\n",
    "from sklearn.metrics import mean_squared_error, accuracy_score\n",
    "\n",
    "LinearRegression_model = LinearRegression()\n",
    "LinearRegression_model.fit(X_train, y_train)\n",
    "\n",
    "accuracy_LinearRegression = LinearRegression_model.score(X_test, y_test)\n",
    "accuracy_LinearRegression"
   ]
  }
 ],
 "metadata": {
  "kernelspec": {
   "display_name": "Python 3",
   "language": "python",
   "name": "python3"
  },
  "language_info": {
   "codemirror_mode": {
    "name": "ipython",
    "version": 3
   },
   "file_extension": ".py",
   "mimetype": "text/x-python",
   "name": "python",
   "nbconvert_exporter": "python",
   "pygments_lexer": "ipython3",
   "version": "3.10.13"
  }
 },
 "nbformat": 4,
 "nbformat_minor": 2
}
